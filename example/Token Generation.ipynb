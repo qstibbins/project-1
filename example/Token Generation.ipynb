{
 "cells": [
  {
   "cell_type": "code",
   "execution_count": 10,
   "id": "0edbd911-42dd-4283-98d9-53c275a6e5b8",
   "metadata": {},
   "outputs": [],
   "source": [
    "import requests\n",
    "\n",
    "client_id = '76bc97248157409b8a5742a4dfc79985'\n",
    "client_secret = '30607fcc430a4c08841ca8039639268e'\n",
    "\n",
    "auth_url = 'https://accounts.spotify.com/api/token'\n",
    "data = {\n",
    "    'grant_type': 'client_credentials',\n",
    "    'client_id': client_id,\n",
    "    'client_secret': client_secret,\n",
    "}\n",
    "\n",
    "response = requests.post(auth_url, data=data)\n",
    "access_token = response.json()['access_token']"
   ]
  },
  {
   "cell_type": "code",
   "execution_count": 12,
   "id": "2f51e606-8029-47aa-b9b1-c6238fdf29f9",
   "metadata": {},
   "outputs": [
    {
     "data": {
      "text/plain": [
       "'BQBD4vAM3nKs0bIXK9cX9gNwPhd1EvfCdH4XBUkPrxZ_MgLhXzmWFQHBg67KZaZlNDoy8o4VIWKD53lNK5ZNmhg7lKR6vZ_Gu3bqE9tzDXx31h6WyvNc2W5PAlWN1fSNjjr9PSz4Ppk'"
      ]
     },
     "execution_count": 12,
     "metadata": {},
     "output_type": "execute_result"
    }
   ],
   "source": [
    "access_token"
   ]
  },
  {
   "cell_type": "code",
   "execution_count": 16,
   "id": "32842a88-4b07-4a2f-88d7-352171ef35b4",
   "metadata": {},
   "outputs": [
    {
     "data": {
      "text/plain": [
       "'https://accounts.spotify.com/api/token'"
      ]
     },
     "execution_count": 16,
     "metadata": {},
     "output_type": "execute_result"
    }
   ],
   "source": [
    "auth_url"
   ]
  },
  {
   "cell_type": "code",
   "execution_count": null,
   "id": "8d1d81c5-807c-406c-8e87-f087e64d4798",
   "metadata": {},
   "outputs": [],
   "source": []
  }
 ],
 "metadata": {
  "kernelspec": {
   "display_name": "Python [conda env:base] *",
   "language": "python",
   "name": "conda-base-py"
  },
  "language_info": {
   "codemirror_mode": {
    "name": "ipython",
    "version": 3
   },
   "file_extension": ".py",
   "mimetype": "text/x-python",
   "name": "python",
   "nbconvert_exporter": "python",
   "pygments_lexer": "ipython3",
   "version": "3.12.7"
  }
 },
 "nbformat": 4,
 "nbformat_minor": 5
}
