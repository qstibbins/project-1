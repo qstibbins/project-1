{
 "cells": [
  {
   "cell_type": "code",
   "execution_count": null,
   "metadata": {},
   "outputs": [],
   "source": [
    "# Dependencies\n",
    "import pandas as pd                     # for handling and structuring data\n",
    "import matplotlib.pyplot as plt         # for creating plots\n",
    "import scipy.stats as st                # for statistical functions\n",
    "import numpy as np                      # for generating random numbers and handling numerical operations\n",
    "from scipy.stats import linregress      # for calculating linear regression\n",
    "\n",
    "# need to switch to csv\n",
    "# Load the Excel file\n",
    "file_path = 'Most Streamed Spotify Songs 2024 - Research.xlsx'\n",
    "xls = pd.ExcelFile(file_path)\n",
    "\n",
    "# Display sheet names to identify relevant data\n",
    "print(xls.sheet_names)\n"
   ]
  },
  {
   "cell_type": "code",
   "execution_count": null,
   "metadata": {},
   "outputs": [],
   "source": [
    "# Load the 'Likes' sheet\n",
    "likes_df = pd.read_excel(xls, sheet_name='Likes', skiprows=2)\n",
    "\n",
    "# Rename 'Row Labels' column\n",
    "likes_df.rename(columns={'Row Labels': 'Song Title'}, inplace=True)\n",
    "\n",
    "# Load the 'Views' sheet\n",
    "views_df = pd.read_excel(xls, sheet_name='Views', skiprows=2)\n",
    "views_df.rename(columns={'Row Labels': 'Song Title'}, inplace=True)\n",
    "\n",
    "most_streamed_df = pd.read_excel(xls, sheet_name='Most Streamed Spotify Songs 202')\n",
    "\n",
    "views_df.head()"
   ]
  },
  {
   "cell_type": "code",
   "execution_count": null,
   "metadata": {},
   "outputs": [],
   "source": [
    "# Ensure that the key columns have consistent names across DataFrames to facilitate merging\n",
    "likes_df.rename(columns={'Song Title': 'Song'}, inplace=True)\n",
    "views_df.rename(columns={'Song Title': 'Song'}, inplace=True)\n",
    "\n",
    "# Select relevant columns\n",
    "likes_df = likes_df[['Song', 'Sum of TikTok Likes', 'Sum of YouTube Likes']]\n",
    "views_df = views_df[['Song', 'Max of Spotify Popularity', 'Sum of Spotify Streams', 'Sum of YouTube Views', 'Sum of TikTok Views']]\n",
    "\n",
    "views_df.head()"
   ]
  },
  {
   "cell_type": "code",
   "execution_count": null,
   "metadata": {},
   "outputs": [],
   "source": [
    "# Combine the two DataFrames based on the 'Song' column\n",
    "merged_df = pd.merge(likes_df, views_df, on='Song', how='inner')\n",
    "\n",
    "merged_df.head()"
   ]
  },
  {
   "cell_type": "code",
   "execution_count": null,
   "metadata": {},
   "outputs": [],
   "source": [
    "# Remove rows with missing values\n",
    "merged_df.dropna(inplace=True)\n",
    "\n",
    "# Formatting numbers for easy reading \n",
    "def format_number(num):\n",
    "    if abs(num) >= 1_000_000_000:\n",
    "        return f\"{num/1_000_000_000:.1f}B\"\n",
    "    elif abs(num) >= 1_000_000:\n",
    "        return f\"{num/1_000_000:.1f}M\"\n",
    "    elif abs(num) >= 1_000:\n",
    "        return f\"{num/1_000:.1f}K\"\n",
    "    else:\n",
    "        return f\"{num:.1f}\"\n",
    "\n",
    "# Define the columns you want to format\n",
    "columns_to_format = ['Sum of TikTok Likes', 'Sum of YouTube Likes', 'Sum of Spotify Streams', 'Sum of YouTube Views', 'Sum of TikTok Views']\n",
    "formatted_df = merged_df\n",
    "\n",
    "# Apply the formatting to columns\n",
    "for col in columns_to_format:\n",
    "    formatted_df[col] = formatted_df[col].apply(format_number)\n",
    "\n",
    "# Display the updated DataFrame\n",
    "formatted_df"
   ]
  },
  {
   "cell_type": "code",
   "execution_count": null,
   "metadata": {},
   "outputs": [],
   "source": [
    "# this cell runs foreverrrrr (¬_¬\")\n",
    "\n",
    "# Spotify vs TikTok Views\n",
    "# Does high TikTok views correlate to high spotify streams?\n",
    "\n",
    "# Create a scatterplot\n",
    "plt.scatter(merged_df['Sum of TikTok Views'], merged_df['Sum of Spotify Streams'])\n",
    "plt.xlabel('Sum of TikTok Views')\n",
    "plt.ylabel('Sum of Spotify Streams')\n",
    "plt.title('Spotify vs TikTok Views')\n",
    "# What kind of editting can be done to make the tick labels not smush together??\n",
    "plt.xticks(rotation=45)\n",
    "plt.yticks(rotation=45)\n",
    "plt.show()\n"
   ]
  },
  {
   "cell_type": "code",
   "execution_count": null,
   "metadata": {},
   "outputs": [],
   "source": [
    "# Does the top 500 most viewed TikTok songs have high spotify streaming?\n",
    "\n",
    "# Create a bar chat\n",
    "\n",
    "# Sort DataFrame by TikTok Views in descending order\n",
    "top_500_tiktok_df = merged_df.sort_values(by='Sum of TikTok Views', ascending=False).head(501)\n",
    "\n",
    "# Remove the 'Grand Total' row\n",
    "top_500_tiktok_df = top_500_tiktok_df[top_500_tiktok_df['Song'] != 'Grand Total']\n",
    "\n",
    "# Display top 500 TikTok-viewed songs with their Spotify Streams\n",
    "top_500_tiktok_df[['Song', 'Sum of TikTok Views', 'Sum of Spotify Streams']]\n"
   ]
  },
  {
   "cell_type": "code",
   "execution_count": null,
   "metadata": {},
   "outputs": [],
   "source": [
    "# Spotify vs TikTok Views\n",
    "# Does high TikTok views correlate to high spotify streams?\n",
    "\n",
    "# Create a scatterplot\n",
    "plt.scatter(top_500_tiktok_df['Sum of TikTok Views'], top_500_tiktok_df['Sum of Spotify Streams'])\n",
    "plt.xlabel('Sum of TikTok Views')\n",
    "plt.ylabel('Sum of Spotify Streams')\n",
    "plt.title('Spotify vs TikTok Views')\n",
    "plt.xticks(rotation=90)\n",
    "plt.yticks(rotation=90)\n",
    "plt.show()"
   ]
  },
  {
   "cell_type": "code",
   "execution_count": null,
   "metadata": {},
   "outputs": [],
   "source": [
    "# Add the linear regression equation and line to plot\n",
    "x_values = top_500_tiktok_df[\"Sum of TikTok Views\"]\n",
    "y_values = top_500_tiktok_df[\"Sum of Spotify Streams\"]\n",
    "\n",
    "#the output will be a tuple of multiple values  for linear regression\n",
    "(slope, intercept, rvalue, pvalue, stderr) = linregress(x_values, y_values)\n",
    "\n",
    "regress_values = x_values * slope + intercept\n",
    "\n",
    "line_eq = \"y = \" + str(round(slope,2)) + \"x + \" + str(round(intercept,2))   # print the equation in my graph (string)\n",
    "\n",
    "#the scatterplot\n",
    "plt.scatter(x_values,y_values)\n",
    "plt.plot(x_values,regress_values,\"r-\")\n",
    "plt.annotate(line_eq,(5.8,0.8),fontsize=15,color=\"red\")\n",
    "\n",
    "plt.xlabel(\"Sum of TikTok Views\")\n",
    "plt.ylabel(\"Sum of Spotify Streams\")\n",
    "plt.title(\"Spotify vs TikTok Views\")\n",
    "\n",
    "plt.show()\n",
    "\n",
    "print(f\"The r^2-value is: {rvalue**2}\")"
   ]
  },
  {
   "cell_type": "code",
   "execution_count": null,
   "metadata": {},
   "outputs": [],
   "source": [
    "# Does the top 10 most viewed TikTok songs have high spotify streaming?\n",
    "\n",
    "# Create a bar chat\n",
    "\n",
    "# Sort DataFrame by TikTok Views in descending order\n",
    "top_ten_tiktok_df = top_500_tiktok_df.sort_values(by='Sum of TikTok Views', ascending=False).head(10)\n",
    "\n",
    "# Display top 10 TikTok-viewed songs with their Spotify Streams\n",
    "top_ten_tiktok_df[['Song', 'Sum of TikTok Views', 'Sum of Spotify Streams']]\n"
   ]
  },
  {
   "cell_type": "code",
   "execution_count": null,
   "metadata": {},
   "outputs": [],
   "source": [
    "# Create a bar chart comparing percentages of TikTok Views and Spotify streaming\n",
    "\n",
    "# Calculate the percentages\n",
    "total_tiktok = top_ten_tiktok_df['Sum of TikTok Views'].sum()     # find the total sum first\n",
    "total_spotify  = top_ten_tiktok_df['Sum of TikTok Views'].sum()\n",
    "\n",
    "# Convert each song into a percentage of the total\n",
    "top_ten_tiktok_df['TikTok Percentage'] = (top_ten_tiktok_df['Sum of TikTok Views'] / total_tiktok) * 100\n",
    "top_ten_tiktok_df['Spotify Percentage'] = (top_ten_tiktok_df['Sum of Spotify Streams'] / total_spotify) * 100\n",
    "\n",
    "top_ten_tiktok_df"
   ]
  },
  {
   "cell_type": "code",
   "execution_count": null,
   "metadata": {},
   "outputs": [],
   "source": [
    "# Prepare the bar chart\n",
    "x = np.arange(len(top_ten_tiktok_df['Song']))  # the label locations\n",
    "width = 0.25                                   # the width of the bars\n",
    "\n",
    "# Create the subplot\n",
    "fig, ax = plt.subplots(figsize=(8, 5), layout='constrained')   # constrained to prevent overlap\n",
    "\n",
    "# Plot the bars\n",
    "tiktok_bar = ax.bar(x-width/2, top_ten_tiktok_df['Sum of TikTok Views'], width, label='Sum of TikTok Views', color='blue')\n",
    "spotify_bar = ax.bar(x+width/2, top_ten_tiktok_df['Sum of Spotify Streams'], width, label='Sum of Spotify Streams', color='green')\n",
    "\n",
    "# Formatting\n",
    "ax.set_ylabel('Count')\n",
    "ax.set_title('TikTok Views vs. Spotify Streams')\n",
    "ax.set_xticks(x)\n",
    "ax.set_xticklabels(top_ten_tiktok_df['Song'], rotation=30, ha='right')  # Rotate labels for readability\n",
    "ax.legend()\n",
    "\n",
    "max_value = max(top_ten_tiktok_df['Sum of Spotify Streams'].max(), top_ten_tiktok_df['Sum of TikTok Views'].max())\n",
    "ax.set_ylim(0, max_value * 1.1)          # Set y-limit slightly above max value\n"
   ]
  },
  {
   "cell_type": "code",
   "execution_count": null,
   "metadata": {},
   "outputs": [],
   "source": []
  }
 ],
 "metadata": {
  "kernelspec": {
   "display_name": "dev",
   "language": "python",
   "name": "python3"
  },
  "language_info": {
   "codemirror_mode": {
    "name": "ipython",
    "version": 3
   },
   "file_extension": ".py",
   "mimetype": "text/x-python",
   "name": "python",
   "nbconvert_exporter": "python",
   "pygments_lexer": "ipython3",
   "version": "3.10.16"
  }
 },
 "nbformat": 4,
 "nbformat_minor": 2
}
